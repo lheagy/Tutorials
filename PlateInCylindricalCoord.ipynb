{
 "metadata": {
  "name": "",
  "signature": "sha256:2fb0ec66ebad959befa4c2995a6ef3fb2035f6d5be1564ef0dcd54df3193b710"
 },
 "nbformat": 3,
 "nbformat_minor": 0,
 "worksheets": [
  {
   "cells": [
    {
     "cell_type": "code",
     "collapsed": false,
     "input": [
      "# import the necessary packages\n",
      "from SimPEG import *\n",
      "import simpegEM as EM\n",
      "%pylab inline"
     ],
     "language": "python",
     "metadata": {},
     "outputs": [
      {
       "output_type": "stream",
       "stream": "stdout",
       "text": [
        "Efficiency Warning: Interpolation will be slow, use setup.py!\n",
        "\n",
        "            python setup.py build_ext --inplace\n",
        "    \n",
        "Populating the interactive namespace from numpy and matplotlib"
       ]
      },
      {
       "output_type": "stream",
       "stream": "stdout",
       "text": [
        "\n"
       ]
      }
     ],
     "prompt_number": 1
    },
    {
     "cell_type": "heading",
     "level": 1,
     "metadata": {},
     "source": [
      "Model Parameters"
     ]
    },
    {
     "cell_type": "markdown",
     "metadata": {},
     "source": [
      "Define the size and conductivity of the plate and background"
     ]
    },
    {
     "cell_type": "code",
     "collapsed": false,
     "input": [
      "# Model Parameters\n",
      "sigback = 1e-2 # 100 Ohm-m background\n",
      "sigfrac = 1000. # 1000 S/m Frac\n",
      "\n",
      "t = 5e-3 # fracture thickness\n",
      "\n",
      "# for the disk distribution\n",
      "Rd1 = 20. # inner radius\n",
      "Rd2 = 40. # outer radius (m)\n",
      "\n",
      "# for the circle disribution\n",
      "Rc  = np.sqrt(Rd2**2 -Rd1**2) "
     ],
     "language": "python",
     "metadata": {},
     "outputs": [],
     "prompt_number": 2
    },
    {
     "cell_type": "heading",
     "level": 1,
     "metadata": {},
     "source": [
      "Survey Parameters"
     ]
    },
    {
     "cell_type": "code",
     "collapsed": false,
     "input": [
      "# Survey Parameters\n",
      "freq = 100.  # frequency \n",
      "\n",
      "# receivers\n",
      "nrx = 20.   # number of receivers \n",
      "rxx = 100.  # x location of receivers\n",
      "rxz = np.linspace(-100,100,nrx) # z location of receivers\n",
      "\n",
      "# calculate the skin depth\n",
      "delta = 500./np.sqrt(freq*sigback)\n",
      "print(delta)"
     ],
     "language": "python",
     "metadata": {},
     "outputs": [
      {
       "output_type": "stream",
       "stream": "stdout",
       "text": [
        "500.0\n"
       ]
      }
     ],
     "prompt_number": 3
    },
    {
     "cell_type": "heading",
     "level": 1,
     "metadata": {},
     "source": [
      "Set up Mesh"
     ]
    },
    {
     "cell_type": "code",
     "collapsed": false,
     "input": [
      "# set up a mesh\n",
      "csx, ncx, npadx = 10.,  25, 12 # x- direction\n",
      "csz, ncz, npadz = 5  ,  31, 15 # z-direction\n",
      "hx = Utils.meshTensor([(csx,npadx,-0.7), (csx,ncx), (csx,npadx,1.3)])\n",
      "hz = Utils.meshTensor([(csz,npadz,-1.3), (csz,ncz), (csz,npadz,1.3)])\n",
      "mesh = Mesh.CylMesh([hx,1,hz], [0.,0,-hz.sum()/2.])\n",
      "mesh.plotGrid()"
     ],
     "language": "python",
     "metadata": {},
     "outputs": [
      {
       "metadata": {},
       "output_type": "display_data",
       "png": "[encoded data removed]",
       "text": [
        "<matplotlib.figure.Figure at 0x7f4fc88>"
       ]
      }
     ],
     "prompt_number": 4
    },
    {
     "cell_type": "heading",
     "level": 1,
     "metadata": {},
     "source": [
      "Put Model on Mesh"
     ]
    },
    {
     "cell_type": "code",
     "collapsed": false,
     "input": [
      "# find where in the mesh the circle and disc should be\n",
      "fracCircle = (mesh.gridCC[:,0]<=Rc) & (mesh.gridCC[:,2]<csz) & (mesh.gridCC[:,2]>-csz)\n",
      "fracDisc = (mesh.gridCC[:,0]>=Rd1) & (mesh.gridCC[:,0]<=Rd2) & (mesh.gridCC[:,2]<csz) & (mesh.gridCC[:,2]>-csz)\n",
      "\n",
      "# conductivity model for the circular frac\n",
      "sigfracCircle = sigback*np.ones(mesh.nC)\n",
      "sigfracCircle[fracCircle] = sigfrac\n",
      "\n",
      "# conductivity model for the disc frac\n",
      "sigfracDisc = sigback*np.ones(mesh.nC)\n",
      "sigfracDisc[fracDisc] = sigfrac"
     ],
     "language": "python",
     "metadata": {},
     "outputs": [],
     "prompt_number": 5
    },
    {
     "cell_type": "code",
     "collapsed": false,
     "input": [
      "# plot them\n",
      "fs = 18 # fontsize\n",
      "xlim = [0.,150.]\n",
      "ylim = [-100., 100.]\n",
      "\n",
      "plt.colorbar(mesh.plotImage(np.log10(sigfracCircle))[0])\n",
      "plt.xlim(xlim)\n",
      "plt.ylim(ylim)\n",
      "plt.plot(0.,0.,'d',markersize=12,markeredgecolor='white',markerfacecolor='white')\n",
      "plt.plot(rxx*np.ones(rxz.shape),rxz,'o',markersize=6,markeredgecolor='yellow',markerfacecolor='yellow')\n",
      "plt.fontsize = fs\n",
      "\n",
      "plt.colorbar(mesh.plotImage(np.log10(sigfracDisc))[0])\n",
      "plt.xlim(xlim)\n",
      "plt.ylim(ylim)\n",
      "plt.plot(0.,0.,'d',markersize=12,markeredgecolor='white',markerfacecolor='white')\n",
      "plt.plot(rxx*np.ones(rxz.shape),rxz,'o',markersize=6,markeredgecolor='yellow',markerfacecolor='yellow')\n",
      "plt.fontsize = fs"
     ],
     "language": "python",
     "metadata": {},
     "outputs": [
      {
       "metadata": {},
       "output_type": "display_data",
       "png": "[encoded data removed]",
       "text": [
        "<matplotlib.figure.Figure at 0x7f4f5f8>"
       ]
      },
      {
       "metadata": {},
       "output_type": "display_data",
       "png": "[encoded data removed]",
       "text": [
        "<matplotlib.figure.Figure at 0xa848cc0>"
       ]
      }
     ],
     "prompt_number": 6
    },
    {
     "cell_type": "heading",
     "level": 1,
     "metadata": {},
     "source": [
      "Set Problem and Survey"
     ]
    },
    {
     "cell_type": "code",
     "collapsed": false,
     "input": [
      "# receivers\n",
      "XYZ = Utils.ndgrid(np.r_[rxx],np.r_[0.],rxz)\n",
      "Rx0 = EM.FDEM.RxFDEM(XYZ, 'bzr')\n",
      "Rx1 = EM.FDEM.RxFDEM(XYZ, 'bzi')\n",
      "\n",
      "txList = []\n",
      "Tx = EM.FDEM.TxFDEM(np.r_[0.,0.,0.], 'VMD',freq,[Rx0,Rx1])\n",
      "txList.append(Tx)\n",
      "\n",
      "survey = EM.FDEM.SurveyFDEM(txList)\n",
      "prb = EM.FDEM.ProblemFDEM_b(mesh)\n",
      "prb.pair(survey)"
     ],
     "language": "python",
     "metadata": {},
     "outputs": [],
     "prompt_number": 7
    },
    {
     "cell_type": "code",
     "collapsed": false,
     "input": [
      "# # Solve\n",
      "# fieldsCircle = prb.fields(sigfracCircle)\n",
      "# fieldsDisc = prb.fields(sigfracDisc)\n",
      "\n",
      "dCircle = survey.dpred(sigfracCircle)\n",
      "dDisc = survey.dpred(sigfracDisc)"
     ],
     "language": "python",
     "metadata": {},
     "outputs": [],
     "prompt_number": 11
    },
    {
     "cell_type": "code",
     "collapsed": false,
     "input": [],
     "language": "python",
     "metadata": {},
     "outputs": [
      {
       "metadata": {},
       "output_type": "pyout",
       "prompt_number": 12,
       "text": [
        "[<matplotlib.lines.Line2D at 0xb0c2860>,\n",
        " <matplotlib.lines.Line2D at 0xb0c2a90>]"
       ]
      },
      {
       "metadata": {},
       "output_type": "display_data",
       "png": "[encoded data removed]",
       "text": [
        "<matplotlib.figure.Figure at 0x7f57d30>"
       ]
      }
     ],
     "prompt_number": 12
    },
    {
     "cell_type": "code",
     "collapsed": false,
     "input": [],
     "language": "python",
     "metadata": {},
     "outputs": [
      {
       "metadata": {},
       "output_type": "pyout",
       "prompt_number": 14,
       "text": [
        "array([[ 100.        ,    0.        , -100.        ],\n",
        "       [ 100.        ,    0.        ,  -89.47368421],\n",
        "       [ 100.        ,    0.        ,  -78.94736842],\n",
        "       [ 100.        ,    0.        ,  -68.42105263],\n",
        "       [ 100.        ,    0.        ,  -57.89473684],\n",
        "       [ 100.        ,    0.        ,  -47.36842105],\n",
        "       [ 100.        ,    0.        ,  -36.84210526],\n",
        "       [ 100.        ,    0.        ,  -26.31578947],\n",
        "       [ 100.        ,    0.        ,  -15.78947368],\n",
        "       [ 100.        ,    0.        ,   -5.26315789],\n",
        "       [ 100.        ,    0.        ,    5.26315789],\n",
        "       [ 100.        ,    0.        ,   15.78947368],\n",
        "       [ 100.        ,    0.        ,   26.31578947],\n",
        "       [ 100.        ,    0.        ,   36.84210526],\n",
        "       [ 100.        ,    0.        ,   47.36842105],\n",
        "       [ 100.        ,    0.        ,   57.89473684],\n",
        "       [ 100.        ,    0.        ,   68.42105263],\n",
        "       [ 100.        ,    0.        ,   78.94736842],\n",
        "       [ 100.        ,    0.        ,   89.47368421],\n",
        "       [ 100.        ,    0.        ,  100.        ]])"
       ]
      }
     ],
     "prompt_number": 14
    },
    {
     "cell_type": "code",
     "collapsed": false,
     "input": [],
     "language": "python",
     "metadata": {},
     "outputs": []
    }
   ],
   "metadata": {}
  }
 ]
}