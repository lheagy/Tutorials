{
 "metadata": {
  "name": "",
  "signature": "sha256:9826dfbfa94b8f49587c939378ab0b0cc4e9b77c4a230563b33e3744ba861c5d"
 },
 "nbformat": 3,
 "nbformat_minor": 0,
 "worksheets": [
  {
   "cells": [
    {
     "cell_type": "heading",
     "level": 1,
     "metadata": {},
     "source": [
      "Electromagnetic forward Modelling for Plate Models in Cylindrical Coordinates"
     ]
    },
    {
     "cell_type": "markdown",
     "metadata": {},
     "source": [
      "Here we use SimPEG and simpegEM to forward-model the electromagnetic response of a plate. We use two plate geometries, one a circle, and one a disk with a hole in it. The plates are defined to have equal volumes. For a source, we use a vertical magnetic dipole and for receivers we measure both the in-phase (or real) and quadrature (or imaginary) components. We take advantage of the cylindrical symmetry of this problem and treat it as a 2D cylindrically symmetric one. "
     ]
    },
    {
     "cell_type": "heading",
     "level": 2,
     "metadata": {},
     "source": [
      "Using the iPython Notebook"
     ]
    },
    {
     "cell_type": "markdown",
     "metadata": {},
     "source": [
      "This is the <a href=\"http://ipython.org/notebook.html\">iPython Notebook</a>, an interactive coding and computation environment\n",
      "\n",
      "To use the notebook:\n",
      "- \"Shift + Enter\" runs the code within the cell (so does the forward arrow button near the top of the document)\n",
      "- You can alter variables and re-run cells\n",
      "- If you want to start with a clean slate, restart the Kernel either by going to the top, clicking on Kernel: Restart, or by \"esc + 00\" (if you do this, you will need to re-run Step 0 before running any other cells in the notebook) "
     ]
    },
    {
     "cell_type": "heading",
     "level": 2,
     "metadata": {},
     "source": [
      "Step 0: Import Necessary Packages"
     ]
    },
    {
     "cell_type": "code",
     "collapsed": false,
     "input": [
      "# import the necessary packages\n",
      "from SimPEG import *\n",
      "import simpegEM as EM\n",
      "%pylab inline"
     ],
     "language": "python",
     "metadata": {},
     "outputs": [
      {
       "output_type": "stream",
       "stream": "stdout",
       "text": [
        "Populating the interactive namespace from numpy and matplotlib\n"
       ]
      }
     ],
     "prompt_number": 6
    },
    {
     "cell_type": "heading",
     "level": 1,
     "metadata": {},
     "source": [
      "Step 1: Model Parameters"
     ]
    },
    {
     "cell_type": "markdown",
     "metadata": {},
     "source": [
      "Define the size and conductivity of the plate and background. Here, we set up two models, one of a circular fracture and one for a disk that has a hole in it (outer radius Rd1, inner radius Rd2). The thickness of each plate is equal and given by the variable t. The radius of the circular plate is chosen so that the volume of the disk plate and the circular plate are equal.    "
     ]
    },
    {
     "cell_type": "code",
     "collapsed": false,
     "input": [
      "# Model Parameters\n",
      "sigback = 1e-2 # 100 Ohm-m background\n",
      "sigfrac = 1900. # 1000 S/m Frac\n",
      "\n",
      "t = 3e-3 # fracture thickness\n",
      "\n",
      "# for the disk distribution\n",
      "Rd = 50. # inner radius"
     ],
     "language": "python",
     "metadata": {},
     "outputs": [],
     "prompt_number": 7
    },
    {
     "cell_type": "heading",
     "level": 1,
     "metadata": {},
     "source": [
      "Step 2: Survey Parameters"
     ]
    },
    {
     "cell_type": "markdown",
     "metadata": {},
     "source": [
      "Here we specify the survey parameters. We are using a single vertical magnetic dipole transmitter positioned at the origin and multipple receivers. The parameters we are setting are:\n",
      "- freq : frequency of the transmitter\n",
      "- nrx : number of receivers\n",
      "- rxx : x-location of the receivers (assuming that all receivers lie along \n",
      "- rxz : z-locations of the receivers\n",
      "\n",
      "Here, we also calculate the skin-depth (delta), which is used to estimate how quickly the fields decay. This is important to note this value because we need to make sure that the mesh is large enough that the fields will have decayed by the time they get to the boundary (typically we want the mesh to extend >2 times this value)."
     ]
    },
    {
     "cell_type": "code",
     "collapsed": false,
     "input": [
      "# Survey Parameters\n",
      "freq = 100.  # frequency \n",
      "\n",
      "# z - along the well\n",
      "\n",
      "# receivers\n",
      "nrx = 20.   # number of receivers \n",
      "rxx = 100.  # x location of receivers\n",
      "rxz = np.linspace(-100,100,51) # z location of receivers along the well\n",
      "\n",
      "# calculate the skin depth\n",
      "delta = 500./np.sqrt(freq*sigback)\n",
      "print(delta)"
     ],
     "language": "python",
     "metadata": {},
     "outputs": [
      {
       "output_type": "stream",
       "stream": "stdout",
       "text": [
        "500.0\n"
       ]
      }
     ],
     "prompt_number": 8
    },
    {
     "cell_type": "heading",
     "level": 1,
     "metadata": {},
     "source": [
      "Step 3. Set up Mesh"
     ]
    },
    {
     "cell_type": "markdown",
     "metadata": {},
     "source": [
      "Now to solve the problem, we need to discretize it. To do this we define a mesh on which our model and fields will liva and on which we will solve the problem. "
     ]
    },
    {
     "cell_type": "code",
     "collapsed": false,
     "input": [
      "# set up a mesh (all units are meters)\n",
      "csx, ncx, npadx = 5 , 41, 17 # cell size, number of core cells, number of padding cells in the x- direction\n",
      "csz, ncz, npadz = 2.5 , 61, 22 # cell size, number of core cells, number of padding cells in the z- direction\n",
      "hx = Utils.meshTensor([(csx,npadx,-0.7), (csx,ncx), (csx,npadx,1.3)]) # vector of cell widths in the x-direction\n",
      "hz = Utils.meshTensor([(csz,npadz,-1.3), (csz,ncz), (csz,npadz,1.3)]) # vector of cell widths in the z-direction\n",
      "mesh = Mesh.CylMesh([hx,1,hz], [0.,0,-hz.sum()/2.]) # define the cylindrical mesh using SimPEG\n",
      "mesh.plotGrid() # Plot the mesh\n",
      "print mesh.nC"
     ],
     "language": "python",
     "metadata": {},
     "outputs": [
      {
       "output_type": "stream",
       "stream": "stdout",
       "text": [
        "7875\n"
       ]
      },
      {
       "metadata": {},
       "output_type": "display_data",
       "png": "[encoded data removed]",
       "text": [
        "<matplotlib.figure.Figure at 0x830fa58>"
       ]
      }
     ],
     "prompt_number": 9
    },
    {
     "cell_type": "heading",
     "level": 1,
     "metadata": {},
     "source": [
      "Step 4: Put Model on the Mesh"
     ]
    },
    {
     "cell_type": "markdown",
     "metadata": {},
     "source": [
      "Now that we have a mesh, we need to define our model on that mesh. Since the fracture is so thin compared to the size of the cells, we *upscale* the conductivity, that is, make a coarse approximation of the conductivity on the coarse mesh. To do this, we treat the cells with the plate running through them as anisotropic, so the conductivity varies with direction. We treat the vertical component of the conductivity like a series circuit and the component parallel to the plate as a parallel circuit. "
     ]
    },
    {
     "cell_type": "code",
     "collapsed": false,
     "input": [
      "# find where in the mesh the circle and disc should be\n",
      "fracCircle = (mesh.gridCC[:,0]>mesh.hx[0]) & (mesh.gridCC[:,0]<=Rc) & (mesh.gridCC[:,2]<np.max(np.array([csz,t/2.]))) & (mesh.gridCC[:,2]>-np.max(np.array([csz,t/2.])))\n",
      "fracDisc = (mesh.gridCC[:,0]>=Rd1) & (mesh.gridCC[:,0]<=Rd2) & (mesh.gridCC[:,2]<np.max(np.array([csz,t/2.]))) & (mesh.gridCC[:,2]>-np.max(np.array([csz,t/2.])))\n",
      "\n",
      "# inline functions for series and parallel circuit approximations of the anisotropic conductivity\n",
      "scaleByCT = lambda sig1,t1,t2: sig1*t1/t2 \n",
      "\n",
      "Hxyz = Utils.ndgrid(mesh.hx,np.r_[0.],mesh.hz)\n",
      "\n",
      "# Background conductivity\n",
      "sigBack = sigback*np.ones((mesh.nC)) \n",
      "\n",
      "# conductivity model for the circular frac\n",
      "sigfracCircle = sigback*np.ones((mesh.nC)) # anisotropic conductivity\n",
      "sigfracCircle[fracCircle] = scaleByCT(sigfrac,t,Hxyz[fracCircle,2])\n",
      "\n",
      "# conductivity model for the disc frac\n",
      "sigfracDisc = sigback*np.ones((mesh.nC))\n",
      "sigfracDisc[fracDisc] = scaleByCT(sigfrac,t,Hxyz[fracDisc,2])"
     ],
     "language": "python",
     "metadata": {},
     "outputs": [],
     "prompt_number": 42
    },
    {
     "cell_type": "code",
     "collapsed": false,
     "input": [
      "# plot them\n",
      "fs = 32 # fontsize\n",
      "xlim = [0.,150.]     #xlimits\n",
      "ylim = [-150., 150.] #ylimits\n",
      "\n",
      "def plotIt(img,label=None,title=None):\n",
      "    plt.colorbar(img,label=label)\n",
      "    plt.xlim(xlim)\n",
      "    plt.ylim(ylim)\n",
      "    plt.plot(0.,0.,'d',markersize=12,markeredgecolor='white',markerfacecolor='white')\n",
      "    plt.plot(rxx*np.ones(rxz.shape),rxz,'o',markersize=6,markeredgecolor='yellow',markerfacecolor='yellow')\n",
      "    plt.title(title)\n",
      "    plt.fontsize = fs\n",
      "    return\n",
      "\n",
      "# Circle \n",
      "plotIt(mesh.plotImage(np.log10(sigfracCircle))[0],'$\\sigma$','Circle, Parallel Conductivity: $\\sigma$')\n",
      "# Disc\n",
      "plotIt(mesh.plotImage(np.log10(sigfracDisc))[0],'$\\sigma$','Disc, Parallel Conductivity: $\\sigma$')"
     ],
     "language": "python",
     "metadata": {},
     "outputs": [
      {
       "metadata": {},
       "output_type": "display_data",
       "png": "[encoded data removed]",
       "text": [
        "<matplotlib.figure.Figure at 0x10d62ba8>"
       ]
      },
      {
       "metadata": {},
       "output_type": "display_data",
       "png": "[encoded data removed]",
       "text": [
        "<matplotlib.figure.Figure at 0x10bf9780>"
       ]
      }
     ],
     "prompt_number": 43
    },
    {
     "cell_type": "heading",
     "level": 1,
     "metadata": {},
     "source": [
      "Set Problem and Survey"
     ]
    },
    {
     "cell_type": "markdown",
     "metadata": {},
     "source": [
      "Pair the problem and the survey so that we can create fields and collect data"
     ]
    },
    {
     "cell_type": "code",
     "collapsed": false,
     "input": [
      "# receivers\n",
      "XYZ = Utils.ndgrid(np.r_[rxx],np.r_[0.],rxz)   # define receivers on grid\n",
      "Rx0 = EM.FDEM.RxFDEM(XYZ, 'bzr')               # create real / in-phase receivers\n",
      "Rx1 = EM.FDEM.RxFDEM(XYZ, 'bzi')               # create imag / quadrature receivers\n",
      "\n",
      "# transmitters\n",
      "txList = []\n",
      "Tx = EM.FDEM.TxFDEM(np.r_[0.,0.,0.], 'VMD',freq,[Rx0,Rx1]) # create vertical magnetic dipole transmitter\n",
      "txList.append(Tx)\n",
      "\n",
      "# pair the problem and survey\n",
      "survey = EM.FDEM.SurveyFDEM(txList) # set survey\n",
      "prb = EM.FDEM.ProblemFDEM_b(mesh) # set problem\n",
      "prb.pair(survey) # pair problem and survey"
     ],
     "language": "python",
     "metadata": {},
     "outputs": [],
     "prompt_number": 44
    },
    {
     "cell_type": "heading",
     "level": 1,
     "metadata": {},
     "source": [
      "Solve for Data"
     ]
    },
    {
     "cell_type": "code",
     "collapsed": false,
     "input": [
      "# background - no fracture\n",
      "dPrimary = survey.dpred(sigBack)\n",
      "print 'Done Calculating Primary'\n",
      "\n",
      "# circle model\n",
      "dCircle = survey.dpred(sigfracCircle)\n",
      "print 'Done Calculating Circle'\n",
      "\n",
      "# disc model \n",
      "dDisc = survey.dpred(sigfracDisc)\n",
      "print 'Done Calculating Disc'"
     ],
     "language": "python",
     "metadata": {},
     "outputs": [
      {
       "output_type": "stream",
       "stream": "stdout",
       "text": [
        "Done Calculating Primary\n",
        "Done Calculating Circle"
       ]
      },
      {
       "output_type": "stream",
       "stream": "stdout",
       "text": [
        "\n",
        "Done Calculating Disc"
       ]
      },
      {
       "output_type": "stream",
       "stream": "stdout",
       "text": [
        "\n"
       ]
      }
     ],
     "prompt_number": 45
    },
    {
     "cell_type": "code",
     "collapsed": false,
     "input": [
      "plt.plot(rxz,dPrimary[:rxz.size],rxz,dCircle[:rxz.size],rxz,dDisc[:rxz.size])"
     ],
     "language": "python",
     "metadata": {},
     "outputs": [
      {
       "metadata": {},
       "output_type": "pyout",
       "prompt_number": 46,
       "text": [
        "[<matplotlib.lines.Line2D at 0x11756fd0>,\n",
        " <matplotlib.lines.Line2D at 0x11758240>,\n",
        " <matplotlib.lines.Line2D at 0x11758828>]"
       ]
      },
      {
       "metadata": {},
       "output_type": "display_data",
       "png": "[encoded data removed]",
       "text": [
        "<matplotlib.figure.Figure at 0x10d43668>"
       ]
      }
     ],
     "prompt_number": 46
    },
    {
     "cell_type": "code",
     "collapsed": false,
     "input": [
      "plt.plot(rxz,dPrimary[rxz.size:],rxz,dCircle[rxz.size:],rxz,dDisc[rxz.size:])"
     ],
     "language": "python",
     "metadata": {},
     "outputs": [
      {
       "metadata": {},
       "output_type": "pyout",
       "prompt_number": 47,
       "text": [
        "[<matplotlib.lines.Line2D at 0x1176ae10>,\n",
        " <matplotlib.lines.Line2D at 0x1176d080>,\n",
        " <matplotlib.lines.Line2D at 0x1176d668>]"
       ]
      },
      {
       "metadata": {},
       "output_type": "display_data",
       "png": "[encoded data removed]",
       "text": [
        "<matplotlib.figure.Figure at 0x1175c898>"
       ]
      }
     ],
     "prompt_number": 47
    },
    {
     "cell_type": "code",
     "collapsed": false,
     "input": [],
     "language": "python",
     "metadata": {},
     "outputs": [],
     "prompt_number": 47
    },
    {
     "cell_type": "code",
     "collapsed": false,
     "input": [],
     "language": "python",
     "metadata": {},
     "outputs": [
      {
       "ename": "SyntaxError",
       "evalue": "invalid syntax (<ipython-input-32-a58a88215da2>, line 1)",
       "output_type": "pyerr",
       "traceback": [
        "\u001b[1;36m  File \u001b[1;32m\"<ipython-input-32-a58a88215da2>\"\u001b[1;36m, line \u001b[1;32m1\u001b[0m\n\u001b[1;33m    np.\u001b[0m\n\u001b[1;37m       ^\u001b[0m\n\u001b[1;31mSyntaxError\u001b[0m\u001b[1;31m:\u001b[0m invalid syntax\n"
       ]
      }
     ],
     "prompt_number": 32
    },
    {
     "cell_type": "code",
     "collapsed": false,
     "input": [],
     "language": "python",
     "metadata": {},
     "outputs": [],
     "prompt_number": 32
    },
    {
     "cell_type": "code",
     "collapsed": false,
     "input": [],
     "language": "python",
     "metadata": {},
     "outputs": [],
     "prompt_number": 32
    },
    {
     "cell_type": "code",
     "collapsed": false,
     "input": [],
     "language": "python",
     "metadata": {},
     "outputs": [],
     "prompt_number": 32
    },
    {
     "cell_type": "code",
     "collapsed": false,
     "input": [],
     "language": "python",
     "metadata": {},
     "outputs": []
    }
   ],
   "metadata": {}
  }
 ]
}